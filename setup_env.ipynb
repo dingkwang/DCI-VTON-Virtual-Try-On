{
 "cells": [
  {
   "cell_type": "code",
   "execution_count": null,
   "metadata": {},
   "outputs": [],
   "source": [
    "# 1  Setup Openpose\n",
    "import os\n",
    "from os.path import exists, join, basename, splitext\n",
    "\n",
    "git_repo_url = 'https://github.com/CMU-Perceptual-Computing-Lab/openpose.git'\n",
    "project_name = splitext(basename(git_repo_url))[0]\n",
    "if True:\n",
    "    # # see: https://github.com/CMU-Perceptual-Computing-Lab/openpose/issues/949\n",
    "    # # install new CMake becaue of CUDA10\n",
    "    # !wget -q https://cmake.org/files/v3.13/cmake-3.13.0-Linux-x86_64.tar.gz\n",
    "    # !tar xfz cmake-3.13.0-Linux-x86_64.tar.gz --strip-components=1 -C /usr/local\n",
    "    # clone openpose\n",
    "    !git clone - q - -depth 1 $git_repo_url\n",
    "    !sed - i 's/execute_process(COMMAND git checkout master WORKING_DIRECTORY ${CMAKE_SOURCE_DIR}\\/3rdparty\\/caffe)/execute_process(COMMAND git checkout f019d0dfe86f49d1140961f8c7dec22130c83154 WORKING_DIRECTORY ${CMAKE_SOURCE_DIR}\\/3rdparty\\/caffe)/g' openpose/CMakeLists.txt\n",
    "    # install system dependencies\n",
    "    !apt-get - qq install - y libatlas-base-dev libprotobuf-dev libleveldb-dev libsnappy-dev libhdf5-serial-dev protobuf-compiler libgflags-dev libgoogle-glog-dev liblmdb-dev opencl-headers ocl-icd-opencl-dev libviennacl-dev\n",
    "    # install python dependencies\n",
    "    !pip install - q youtube-dl\n",
    "    # build openpose\n",
    "    !cd openpose & & rm - rf build | | true & & mkdir build & & cd build & & cmake .. & & make - j`nproc`\n"
   ]
  }
 ],
 "metadata": {
  "language_info": {
   "name": "python"
  },
  "orig_nbformat": 4
 },
 "nbformat": 4,
 "nbformat_minor": 2
}
