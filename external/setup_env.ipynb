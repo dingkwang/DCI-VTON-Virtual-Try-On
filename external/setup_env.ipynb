{
 "cells": [
  {
   "cell_type": "markdown",
   "metadata": {},
   "source": [
    "# 1. OpenPose\n",
    "Input: real model picture. \n",
    "Output:\n",
    "    model's pose and pose's json file. "
   ]
  },
  {
   "cell_type": "code",
   "execution_count": 18,
   "metadata": {},
   "outputs": [],
   "source": [
    "#1 Build openpose project. Only need to run once. \n",
    "import os\n",
    "from os.path import exists, join, basename, splitext\n",
    "\n",
    "git_repo_url = 'https://github.com/CMU-Perceptual-Computing-Lab/openpose.git'\n",
    "project_name = splitext(basename(git_repo_url))[0]\n",
    "if not exists(project_name):\n",
    "  # see: https://github.com/CMU-Perceptual-Computing-Lab/openpose/issues/949\n",
    "  # install new CMake becaue of CUDA10\n",
    "  !cmake --version\n",
    "  print(\"Make sure cmake version > 3.13\")\n",
    "  # !wget -q https://cmake.org/files/v3.13/cmake-3.13.0-Linux-x86_64.tar.gz\n",
    "  # !tar xfz cmake-3.13.0-Linux-x86_64.tar.gz --strip-components=1\n",
    "  # clone openpose\n",
    "  # !git clone -q --depth 1 $git_repo_url\n",
    "  !sed -i 's/execute_process(COMMAND git checkout master WORKING_DIRECTORY ${CMAKE_SOURCE_DIR}\\/3rdparty\\/caffe)/execute_process(COMMAND git checkout f019d0dfe86f49d1140961f8c7dec22130c83154 WORKING_DIRECTORY ${CMAKE_SOURCE_DIR}\\/3rdparty\\/caffe)/g' openpose/CMakeLists.txt\n",
    "  # install system dependencies\n",
    "  !sudo apt-get -qq install -y libatlas-base-dev libprotobuf-dev libleveldb-dev libsnappy-dev libhdf5-serial-dev protobuf-compiler libgflags-dev libgoogle-glog-dev liblmdb-dev opencl-headers ocl-icd-opencl-dev libviennacl-dev\n",
    "  # install python dependencies\n",
    "  !pip install -q youtube-dl\n",
    "  # build openpose\n",
    "  !cd openpose && rm -rf build || true && mkdir build && cd build && cmake .. && make -j`nproc`"
   ]
  },
  {
   "cell_type": "markdown",
   "metadata": {},
   "source": [
    "Make sure the openpose.bin is generated under `build/examples/openpose/openpose.bin`. "
   ]
  },
  {
   "cell_type": "markdown",
   "metadata": {},
   "source": [
    "Download Openpose model from google drive.  `external/openpose/models/getModels.sh` does not work.  <br>\n",
    "https://drive.google.com/file/d/1QCSxJZpnWvM00hx49CJ2zky7PWGzpcEh  <br>\n",
    "Unzip the model and put under  <br>\n",
    "\n",
    "models/ <br>\n",
    "cameraParameters/  face/  getModels.bat  getModels.sh*  hand/  pose/ <br>"
   ]
  },
  {
   "cell_type": "code",
   "execution_count": null,
   "metadata": {},
   "outputs": [],
   "source": [
    "!cd openpose\n",
    "!./build/examples/openpose/openpose.bin --image_dir MODEL_IMAGE_DIR --hand --disable_blending --display 0 --write_json OPENPOSE_OUTPUT_JSON --write_images OPENPOSE_OUTPUT_IMAGE --num_gpu 1 --num_gpu_start 0\n",
    "# On my computer\n",
    "!./build/examples/openpose/openpose.bin --image_dir /opt/disk1/dwang/sci/datasets/model_image  --hand --disable_blending --display 0 --write_json  /opt/disk1/dwang/sci/datasets/openpose_json/  --write_images /opt/disk1/dwang/sci/datasets/openpose_image --num_gpu 1 --num_gpu_start 0"
   ]
  },
  {
   "cell_type": "markdown",
   "metadata": {},
   "source": [
    "# 2 Human Parse\n",
    "Setup environment. </br>\n",
    "`cd external/AI_power/` </br>\n",
    "`pip install torch==1.8.1+cu111 torchvision==0.9.1+cu111 torchaudio==0.8.1 -f https://download.pytorch.org/whl/torch_stable.html ` </br>\n",
    "`pip install -r requirements.txt` </br>\n"
   ]
  }
 ],
 "metadata": {
  "kernelspec": {
   "display_name": "dci-vton",
   "language": "python",
   "name": "python3"
  },
  "language_info": {
   "codemirror_mode": {
    "name": "ipython",
    "version": 3
   },
   "file_extension": ".py",
   "mimetype": "text/x-python",
   "name": "python",
   "nbconvert_exporter": "python",
   "pygments_lexer": "ipython3",
   "version": "3.8.5"
  },
  "orig_nbformat": 4
 },
 "nbformat": 4,
 "nbformat_minor": 2
}
